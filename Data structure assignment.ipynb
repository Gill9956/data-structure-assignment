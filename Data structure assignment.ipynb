{
 "cells": [
  {
   "cell_type": "markdown",
   "metadata": {},
   "source": [
    "Data Type and structure Questions\n"
   ]
  },
  {
   "cell_type": "markdown",
   "metadata": {},
   "source": [
    "#QUESTION 1: ##What are data structures, and why are they important3?\n",
    "\n",
    "##Answer 1:  ##Data structures in Python are specialized formats or containers used to store and organize data efficiently. They are   important as they provide various ways to store, access, and manipulate data according to specific needs.\n",
    "\n",
    "##Data types accomodates various need like :\n",
    "    1. Data handelling\n",
    "    2. Organization\n",
    "    3. Flexibility\n",
    "    4. Buitl-in-tools\n",
    "\n",
    "-----------------------------------------------------------------------------------------------------------------------------------------     "
   ]
  },
  {
   "cell_type": "markdown",
   "metadata": {},
   "source": [
    "#QUESTION 2: ## Explain the difference between mutable and immutable data types with examples?\n",
    "\n",
    "#ANSWER 2 : \n",
    "\n",
    "##Mutable : You can change their contents after creation. You can access elements by their index, and you can perform various operations like adding, removing, or sorting elements. Examples: Lists and sets\n",
    " \n",
    "\n",
    "##Immutable: Once created you can not change their content. This property is helpful where yo desire constant data. Example:  Tuples, Dictionaries, strings\n",
    "_________________________________________________________________________________________________________________________________________"
   ]
  },
  {
   "cell_type": "markdown",
   "metadata": {},
   "source": [
    "#QUESTION 3 : ##What are the main differences between lists and tuples in Python3?\n",
    "\n",
    "#ANSWER 3 : ##The main difference between lists and tuples in python is their mutability. Lists are mutable and on otherhand tuples are immutable.\n",
    "\n",
    "-----------------------------------------------------------------------------------------------------------------------------------------"
   ]
  },
  {
   "cell_type": "markdown",
   "metadata": {},
   "source": [
    "#QUESTION 4: ##Describe how dictionaries store data?\n",
    "\n",
    "#ANSWER 4 : ##Dictionaries stores the data in the key:value formate.  where each key is unique and maps to a corresponding value. Dictionaries are implemented as hash tables, which allow for efficient data retrieval. When a key-value pair is added to a dictionary, Python computes a hash value for the key, which determines the index where the pair is stored.\n",
    "\n",
    "_________________________________________________________________________________________________________________________________________"
   ]
  },
  {
   "cell_type": "markdown",
   "metadata": {},
   "source": [
    "#QUESTION 5 : ##Why might you use a set instead of a list in Python3?\n",
    "\n",
    "#ANSWER 5:## As set do not allows duplicate data so I might use sets over lists to manage data redundancy.\n",
    "\n",
    "_________________________________________________________________________________________________________________________________________"
   ]
  },
  {
   "cell_type": "markdown",
   "metadata": {},
   "source": [
    "#QUESTION 6: ## What is a string in Python, and how is it different from a list?\n",
    "\n",
    "#ANSWER 6 : ##In Python, a string is a sequence of characters used for handling textual data. Strings can be created using single ('), double (\"), or triple quotes (''' or \"\"\") and are immutable, meaning once a string is defined, it cannot be changed.\n",
    "Strings in Python are sequences of characters, so you can access individual characters using indexing, which starts from 0 and goes to -1 from the end.\n",
    "\n",
    "##A list, on the other hand, is a collection of items that can be of different types and is mutable, allowing you to change its content after it is created.\n",
    "##Lists can contain multiple dimensions, whereas strings are strictly one-dimensional and cannot be nested like lists.\n",
    "Additionally, strings have their own set of methods and functionalities that are not applicable to lists, such as the ability to format strings using methods like format()\n",
    "\n",
    "_________________________________________________________________________________________________________________________________________"
   ]
  },
  {
   "cell_type": "markdown",
   "metadata": {},
   "source": [
    "#QUESTION 7: ##How do tuples ensure data integrity in Python3?\n",
    "\n",
    "#ANSWER 7 : ##Tuples ensure data integrity in Python by being immutable, which means once a tuple is created, its elements cannot be modified, added, or removed.\n",
    " ##This immutability prevents any accidental or unauthorized changes to the data, ensuring that the data remains constant throughout the program.\n",
    "\n",
    "-----------------------------------------------------------------------------------------------------------------------------------------"
   ]
  },
  {
   "cell_type": "markdown",
   "metadata": {},
   "source": [
    "#QUESTION 8: ##What is a hash table, and how does it relate to dictionaries in Python3?\n",
    "\n",
    "#ANSWER 8 : \n",
    "##A hash table is a data structure that maps keys to values by using a hash function to determine the storage location of each key-value pair. This allows for fast insertion, deletion, and lookup operations.\n",
    "\n",
    "##The dictionaries are implemented using hash tables. This means that when you use a dictionary in Python, it is essentially a hash table with additional features that make it easier to use.\n",
    "\n",
    "##The hash table in Python dictionaries uses a hashing function to map keys to indices in an array, where the values are stored.\n",
    "\n",
    "--------------------------------------------------------------------------------------------------------------------------------------"
   ]
  },
  {
   "cell_type": "markdown",
   "metadata": {},
   "source": [
    "#QUESTION 9: ##Can lists contain different data types in Python3?\n",
    "\n",
    "#ANSWER 9: ##Yes lists can contain different data type in python3. Example : [\"Sunny\",2,3.3,1+2j]\n",
    "\n",
    "-----------------------------------------------------------------------------------------------------------------------------------------"
   ]
  },
  {
   "cell_type": "markdown",
   "metadata": {},
   "source": [
    "#QUESTION 10: ##Explain why strings are immutable in Python?\n",
    "\n",
    "#ANSWER 10: ##The  immutability of strings ensures that strings are safe from accidental changes and can be used as keys in dictionaries or as elements in sets, which require their contents to remain constant.\n",
    "\n",
    "-----------------------------------------------------------------------------------------------------------------------------------------"
   ]
  },
  {
   "cell_type": "markdown",
   "metadata": {},
   "source": [
    "#QUESTION 11:## What advantages do dictionaries offer over lists for certain tasks?\n",
    "\n",
    "#ANSWER 11: ##Dictionaries in Python offer several advantages over lists for specific tasks. \n",
    "One key advantage is the ability to store data in key-value pairs, which provides more flexibility when storing data.\n",
    " ##This structure makes it much simpler to search through a dictionary to retrieve stored values, as you can access values directly by their key.\n",
    "\n",
    "##Another advantage of dictionaries is that they can be more efficient for certain operations. For instance, the average time to delete a certain key from a dictionary is O(1), making deletions faster compared to the average time to delete a certain value from a list, which is O(n).\n",
    "\n",
    "--------------------------------------------------------------------------------------------------------------------------------------"
   ]
  },
  {
   "cell_type": "markdown",
   "metadata": {},
   "source": [
    "#QUESTION 12: ##Describe a scenario where using a tuple would be preferable over a list.\n",
    "\n",
    "#ANSWER 12: ##Using a tuple is preferable over a list in scenarios where the data should not be modified after its creation.\n",
    "\n",
    "##For example, consider a function that returns a set of fixed data points, such as coordinates in a geographical application. Since these coordinates are fixed and should not change, using a tuple ensures that the data remains constant and cannot be accidentally modified, which is beneficial for data integrity.\n",
    "\n",
    "-----------------------------------------------------------------------------------------------------------------------------------------"
   ]
  },
  {
   "cell_type": "markdown",
   "metadata": {},
   "source": [
    "#QUESTION 13:## How do sets handle duplicate values in Python?\n",
    "\n",
    "#ANSWER 13:## As sets stores uniques set of data it automatically ignores the duplicate value. Sets are to be mutable but their elements need to be immutable in themselves. \n",
    "##Exapmle:\n",
    "##my_set = {1, 2, 3, 2}\n",
    "##print(my_set)  # Output: {1, 2, 3}\n",
    "\n",
    "-------------------------------------------------------------------------------------------------"
   ]
  },
  {
   "cell_type": "markdown",
   "metadata": {},
   "source": [
    "#QUESTION 14: ##How does the “in” keyword work differently for lists and dictionaries?\n",
    "\n",
    "#ANSWER 14: ##For lists, the in keyword checks if a value is present in the list. It scans through the entire list to see if the value exists.\n",
    "\n",
    "Example:\n",
    "my_list = [1, 2, 3]\n",
    "print(2 in my_list)  # Output: True\n",
    "\n",
    "\n",
    "##For dictionaries, the in keyword checks if a key exists in the dictionary. It looks up the key in constant time (O(1)).\n",
    "\n",
    "Example: \n",
    "my_dict = {'a': 1, 'b': 2}\n",
    "print('a' in my_dict)  # Output: True\n",
    "\n",
    "----------------------\n",
    "\n"
   ]
  },
  {
   "cell_type": "markdown",
   "metadata": {},
   "source": [
    "#Question 15:## Can you modify the elements of a tuple? Explain why or why not?\n",
    "\n",
    "#ANSWER 15:## No, you cannot modify the elements of a tuple because tuples are immutable in Python. Once a tuple is created, its elements cannot be changed, added, or removed. The immutability of tuples ensures that their values remain constant throughout the program.\n",
    "\n",
    "---------------------------------------------"
   ]
  },
  {
   "cell_type": "markdown",
   "metadata": {},
   "source": [
    "#QUESTION 16: ##What is a nested dictionary, and give an example of its use case?\n",
    "\n",
    "#ANSWER 16:## A nested dictionary is a dictionary that contains another dictionary as one of its values. This allows for more complex and hierarchical data structures. \n",
    "An example use case would be a contact book where each person has multiple attributes (name, phone number, etc.) stored as another dictionary:\n",
    "\n",
    "contact_book = {\n",
    "    \"John\": {\"phone\": \"1234\", \"email\": \"john@example.com\"},\n",
    "    \"Jane\": {\"phone\": \"5678\", \"email\": \"jane@example.com\"}\n",
    "}\n",
    "print(contact_book[\"John\"][\"phone\"])  # Output: 1234\n",
    "\n",
    "----------------------------------------------------------------------------------------------------"
   ]
  },
  {
   "cell_type": "markdown",
   "metadata": {},
   "source": [
    "#QUESTION 17: ##Describe the time complexity of accessing elements in a dictionary.\n",
    "\n",
    "#ANSWER 17: ##The time complexity of accessing an element in a dictionary is O(1) on average, meaning it is very fast because dictionaries in Python are implemented as hash tables. \n",
    "##The hash function allows for constant-time lookups. However, in some rare cases, due to hash collisions, the time complexity can degrade to O(n), but this is uncommon.\n",
    "\n",
    "------------------------------\n"
   ]
  },
  {
   "cell_type": "markdown",
   "metadata": {},
   "source": [
    "#QUESTION 18: ##In what situations are lists preferred over dictionaries?\n",
    "\n",
    "#ANSWER 18:## Lists are preferred when you need to store ordered data, especially when the order of elements matters or when you need to iterate over elements in a specific order (because lists are ordered). Lists are also more appropriate for situations where you want to store a collection of elements without needing fast lookups based on keys.\n",
    "\n",
    "------------------------"
   ]
  },
  {
   "cell_type": "markdown",
   "metadata": {},
   "source": [
    "#QUESTION 19:## Why are dictionaries considered unordered, and how does that affect data retrieval?\n",
    "\n",
    "#ANSWER 19: ##Dictionaries are conceptually unordered because they are based on hash tables, and the order of the items is not guaranteed to follow any predictable pattern unless you explicitly sort them. This affects data retrieval because dictionary lookups depend on keys rather than position.\n",
    "\n",
    "-------------------------------------"
   ]
  },
  {
   "cell_type": "markdown",
   "metadata": {},
   "source": [
    "#QUESTION 20: ##Explain the difference between a list and a dictionary in terms of data retrieval.\n",
    "\n",
    "#ANSWER 20 : ##In a list, data retrieval is done by index. You access elements by their position (integer index) in the list.\n",
    "\n",
    "Example:\n",
    "my_list = [10, 20, 30]\n",
    "print(my_list[1])  # Output: 20\n",
    "\n",
    "##In a dictionary, data retrieval is done by key. You access elements using a key, which maps to a value.\n",
    "\n",
    "Example: \n",
    "my_dict = {'name': 'John', 'age': 25}\n",
    "print(my_dict['name'])  # Output: John\n",
    "\n",
    "----------------------------------------------------------------------------------------------------------------------------"
   ]
  },
  {
   "cell_type": "markdown",
   "metadata": {},
   "source": []
  },
  {
   "cell_type": "markdown",
   "metadata": {},
   "source": [
    "PRACTICAL QUESTIONS"
   ]
  },
  {
   "cell_type": "code",
   "execution_count": 1,
   "metadata": {},
   "outputs": [
    {
     "name": "stdout",
     "output_type": "stream",
     "text": [
      "SUNNY\n"
     ]
    }
   ],
   "source": [
    "# QUESTION 1: Create a string with your name and print it:\n",
    "\n",
    "name=\"SUNNY\"\n",
    "print(name)"
   ]
  },
  {
   "cell_type": "code",
   "execution_count": 3,
   "metadata": {},
   "outputs": [
    {
     "name": "stdout",
     "output_type": "stream",
     "text": [
      "11\n"
     ]
    }
   ],
   "source": [
    "#QUESTION 2:Find the length of the string \"Hello World\":\n",
    "\n",
    "word= \"HELLO WORLD\"\n",
    "length= len(word)\n",
    "print(length)\n"
   ]
  },
  {
   "cell_type": "code",
   "execution_count": 6,
   "metadata": {},
   "outputs": [
    {
     "name": "stdout",
     "output_type": "stream",
     "text": [
      "Pyt\n"
     ]
    }
   ],
   "source": [
    "#QUESTION 3: Slice the first 3 characters from the string \"Python Programming\":\n",
    "\n",
    "word= \"Python Programming\"\n",
    "print(word[0:3])"
   ]
  },
  {
   "cell_type": "code",
   "execution_count": 8,
   "metadata": {},
   "outputs": [
    {
     "name": "stdout",
     "output_type": "stream",
     "text": [
      "HELLO\n"
     ]
    }
   ],
   "source": [
    "#QUESTION 4: Convert the string \"hello\" to uppercase:\n",
    "\n",
    "word=\"hello\"\n",
    "print(word.upper())"
   ]
  },
  {
   "cell_type": "code",
   "execution_count": 11,
   "metadata": {},
   "outputs": [
    {
     "name": "stdout",
     "output_type": "stream",
     "text": [
      "I like orange\n"
     ]
    }
   ],
   "source": [
    "#QUESTION 5: Replace the word \"apple\" with \"orange\" in the string \"I like apple\":\n",
    "\n",
    "word=\"I like apple\"\n",
    "print(word.replace(\"apple\",\"orange\"))\n"
   ]
  },
  {
   "cell_type": "code",
   "execution_count": 13,
   "metadata": {},
   "outputs": [
    {
     "name": "stdout",
     "output_type": "stream",
     "text": [
      "[1, 2, 3, 4, 5]\n"
     ]
    }
   ],
   "source": [
    "#question 6: Create a list with numbers 1 to 5 and print it:\n",
    "\n",
    "T_list=[1,2,3,4,5]\n",
    "print(T_list)"
   ]
  },
  {
   "cell_type": "code",
   "execution_count": 15,
   "metadata": {},
   "outputs": [
    {
     "name": "stdout",
     "output_type": "stream",
     "text": [
      "[1, 2, 3, 4, 10]\n"
     ]
    }
   ],
   "source": [
    "#QUESTION 7: Append the number 10 to the list [1, 2, 3, 4]:\n",
    "\n",
    "T_list=[1,2,3,4]\n",
    "T_list.append(10)\n",
    "print(T_list)\n"
   ]
  },
  {
   "cell_type": "code",
   "execution_count": 17,
   "metadata": {},
   "outputs": [
    {
     "name": "stdout",
     "output_type": "stream",
     "text": [
      "[1, 2, 4, 5]\n"
     ]
    }
   ],
   "source": [
    "#QUESTION 8: Remove the number 3 from the list [1, 2, 3, 4, 5]:\n",
    "\n",
    "T_list=[1,2,3,4,5]\n",
    "T_list.remove(3)\n",
    "print(T_list)\n"
   ]
  },
  {
   "cell_type": "code",
   "execution_count": 18,
   "metadata": {},
   "outputs": [
    {
     "name": "stdout",
     "output_type": "stream",
     "text": [
      "b\n"
     ]
    }
   ],
   "source": [
    "#QUESTION 9: Access the second element in the list ['a', 'b', 'c', 'd']:\n",
    "\n",
    "T_list=['a','b','c','d']\n",
    "print(T_list[1])"
   ]
  },
  {
   "cell_type": "code",
   "execution_count": 21,
   "metadata": {},
   "outputs": [
    {
     "name": "stdout",
     "output_type": "stream",
     "text": [
      "[50, 40, 30, 20, 10]\n"
     ]
    }
   ],
   "source": [
    "#QUESTION 10: Reverse the list [10, 20, 30, 40, 50]:\n",
    "\n",
    "T_list = [10, 20, 30, 40, 50]\n",
    "T_list.reverse()\n",
    "print(T_list)"
   ]
  },
  {
   "cell_type": "code",
   "execution_count": null,
   "metadata": {},
   "outputs": [],
   "source": [
    "#QUESTION 11:Write a code to create a tuple with the elements 100, 200, 300 and print it.\n",
    "\n",
    "my_tuple = (100, 200, 300)\n",
    "print(my_tuple)\n"
   ]
  },
  {
   "cell_type": "code",
   "execution_count": null,
   "metadata": {},
   "outputs": [
    {
     "name": "stdout",
     "output_type": "stream",
     "text": [
      "blue\n"
     ]
    }
   ],
   "source": [
    "#QUESTION 12:Access the second-to-last element of the tuple ('red', 'green', 'blue', 'yellow'):\n",
    "\n",
    "my_tuple = ('red', 'green', 'blue', 'yellow')\n",
    "second_to_last = my_tuple[-2]\n",
    "print(second_to_last)\n",
    "\n"
   ]
  },
  {
   "cell_type": "code",
   "execution_count": 22,
   "metadata": {},
   "outputs": [
    {
     "name": "stdout",
     "output_type": "stream",
     "text": [
      "5\n"
     ]
    }
   ],
   "source": [
    "#QUESTION 13: Find the minimum number in the tuple (10, 20, 5, 15):\n",
    "\n",
    "my_tuple = (10, 20, 5, 15)\n",
    "min_value = min(my_tuple)\n",
    "print(min_value)\n",
    "\n"
   ]
  },
  {
   "cell_type": "code",
   "execution_count": 23,
   "metadata": {},
   "outputs": [
    {
     "name": "stdout",
     "output_type": "stream",
     "text": [
      "1\n"
     ]
    }
   ],
   "source": [
    "#QUESTION 14: Find the index of the element \"cat\" in the tuple ('dog', 'cat', 'rabbit'):\n",
    "\n",
    "my_tuple = ('dog', 'cat', 'rabbit')\n",
    "index_of_cat = my_tuple.index('cat')\n",
    "print(index_of_cat)\n"
   ]
  },
  {
   "cell_type": "code",
   "execution_count": 24,
   "metadata": {},
   "outputs": [
    {
     "name": "stdout",
     "output_type": "stream",
     "text": [
      "False\n"
     ]
    }
   ],
   "source": [
    "#QUESTION 15: Create a tuple containing three different fruits and check if \"kiwi\" is in it:\n",
    "\n",
    "fruits = ('apple', 'banana', 'cherry')\n",
    "contains_kiwi = 'kiwi' in fruits\n",
    "print(contains_kiwi)\n"
   ]
  },
  {
   "cell_type": "code",
   "execution_count": 25,
   "metadata": {},
   "outputs": [
    {
     "name": "stdout",
     "output_type": "stream",
     "text": [
      "{'a', 'c', 'b'}\n"
     ]
    }
   ],
   "source": [
    "#QUESTION 16: Create a set with the elements 'a', 'b', 'c' and print it\n",
    "\n",
    "my_set = {'a', 'b', 'c'}\n",
    "print(my_set)\n"
   ]
  },
  {
   "cell_type": "code",
   "execution_count": 26,
   "metadata": {},
   "outputs": [
    {
     "name": "stdout",
     "output_type": "stream",
     "text": [
      "set()\n"
     ]
    }
   ],
   "source": [
    "#QUESTION 17: Clear all elements from the set {1, 2, 3, 4, 5}:\n",
    "\n",
    "my_set = {1, 2, 3, 4, 5}\n",
    "my_set.clear()\n",
    "print(my_set)\n"
   ]
  },
  {
   "cell_type": "code",
   "execution_count": 27,
   "metadata": {},
   "outputs": [
    {
     "name": "stdout",
     "output_type": "stream",
     "text": [
      "{1, 2, 3}\n"
     ]
    }
   ],
   "source": [
    "#QUESTION 18: Remove the element 4 from the set {1, 2, 3, 4}:\n",
    "\n",
    "my_set = {1, 2, 3, 4}\n",
    "my_set.remove(4)\n",
    "print(my_set)\n",
    "\n"
   ]
  },
  {
   "cell_type": "code",
   "execution_count": 28,
   "metadata": {},
   "outputs": [
    {
     "name": "stdout",
     "output_type": "stream",
     "text": [
      "{1, 2, 3, 4, 5}\n"
     ]
    }
   ],
   "source": [
    "#QUESTION 19:Find the union of two sets {1, 2, 3} and {3, 4, 5}:\n",
    "\n",
    "set1 = {1, 2, 3}\n",
    "set2 = {3, 4, 5}\n",
    "union_set = set1.union(set2)\n",
    "print(union_set)\n",
    "\n",
    "\n"
   ]
  },
  {
   "cell_type": "code",
   "execution_count": 29,
   "metadata": {},
   "outputs": [
    {
     "name": "stdout",
     "output_type": "stream",
     "text": [
      "{2, 3}\n"
     ]
    }
   ],
   "source": [
    "#QUESTION 20:Find the intersection of two sets {1, 2, 3} and {2, 3, 4}:\n",
    "\n",
    "set1 = {1, 2, 3}\n",
    "set2 = {2, 3, 4}\n",
    "intersection_set = set1.intersection(set2)\n",
    "print(intersection_set)\n"
   ]
  },
  {
   "cell_type": "code",
   "execution_count": 31,
   "metadata": {},
   "outputs": [
    {
     "name": "stdout",
     "output_type": "stream",
     "text": [
      "{'name': 'Sunny', 'age': 24, 'city': 'Noida'}\n"
     ]
    }
   ],
   "source": [
    "#QUESTION 21: Create a dictionary with the keys \"name\", \"age\", and \"city\", and print it:\n",
    "\n",
    "my_dict = {\"name\": \"Sunny\", \"age\": 24, \"city\": \"Noida\"}\n",
    "print(my_dict)\n",
    "\n"
   ]
  },
  {
   "cell_type": "code",
   "execution_count": 32,
   "metadata": {},
   "outputs": [
    {
     "name": "stdout",
     "output_type": "stream",
     "text": [
      "{'name': 'John', 'age': 25, 'country': 'USA'}\n"
     ]
    }
   ],
   "source": [
    "#QUESTION 22: Add a new key-value pair \"country\": \"USA\" to the dictionary {'name': 'John', 'age': 25}:\n",
    "\n",
    "my_dict = {'name': 'John', 'age': 25}\n",
    "my_dict['country'] = 'USA'\n",
    "print(my_dict)\n"
   ]
  },
  {
   "cell_type": "code",
   "execution_count": 33,
   "metadata": {},
   "outputs": [
    {
     "name": "stdout",
     "output_type": "stream",
     "text": [
      "Alice\n"
     ]
    }
   ],
   "source": [
    "#QUESTION 23:Access the value associated with the key \"name\" in the dictionary {'name': 'Alice', 'age': 30}:\n",
    "\n",
    "\n",
    "my_dict = {'name': 'Alice', 'age': 30}\n",
    "name_value = my_dict['name']\n",
    "print(name_value)\n"
   ]
  },
  {
   "cell_type": "code",
   "execution_count": 34,
   "metadata": {},
   "outputs": [
    {
     "name": "stdout",
     "output_type": "stream",
     "text": [
      "{'name': 'Bob', 'city': 'New York'}\n"
     ]
    }
   ],
   "source": [
    "#QUESTION 24: Remove the key \"age\" from the dictionary {'name': 'Bob', 'age': 22, 'city': 'New York'}:\n",
    "\n",
    "my_dict = {'name': 'Bob', 'age': 22, 'city': 'New York'}\n",
    "del my_dict['age']\n",
    "print(my_dict)\n"
   ]
  },
  {
   "cell_type": "code",
   "execution_count": 35,
   "metadata": {},
   "outputs": [
    {
     "name": "stdout",
     "output_type": "stream",
     "text": [
      "True\n"
     ]
    }
   ],
   "source": [
    "#QUESTION 25: Check if the key \"city\" exists in the dictionary {'name': 'Alice', 'city': 'Paris'}:\n",
    "\n",
    "my_dict = {'name': 'Alice', 'city': 'Paris'}\n",
    "has_city_key = 'city' in my_dict\n",
    "print(has_city_key)\n"
   ]
  },
  {
   "cell_type": "code",
   "execution_count": 36,
   "metadata": {},
   "outputs": [
    {
     "name": "stdout",
     "output_type": "stream",
     "text": [
      "[1, 2, 3]\n",
      "('apple', 'banana', 'cherry')\n",
      "{'name': 'Alice', 'age': 25}\n"
     ]
    }
   ],
   "source": [
    "#QUESTION 26: Create a list, a tuple, and a dictionary, and print them all:\n",
    "\n",
    "my_list = [1, 2, 3]\n",
    "my_tuple = ('apple', 'banana', 'cherry')\n",
    "my_dict = {'name': 'Alice', 'age': 25}\n",
    "\n",
    "print(my_list)\n",
    "print(my_tuple)\n",
    "print(my_dict)\n"
   ]
  },
  {
   "cell_type": "code",
   "execution_count": 38,
   "metadata": {},
   "outputs": [
    {
     "name": "stdout",
     "output_type": "stream",
     "text": [
      "[1, 11, 23, 34, 53]\n"
     ]
    }
   ],
   "source": [
    "#QUESTION 27: Create a list of 5 random numbers between 1 and 100, sort it in ascending order, and print the result:\n",
    "\n",
    "\n",
    "random_numbers = [23,11,1,34,53,]\n",
    "random_numbers.sort()\n",
    "print(random_numbers)\n"
   ]
  },
  {
   "cell_type": "code",
   "execution_count": 39,
   "metadata": {},
   "outputs": [
    {
     "name": "stdout",
     "output_type": "stream",
     "text": [
      "date\n"
     ]
    }
   ],
   "source": [
    "#QUESTION 28: Create a list with strings and print the element at the third index:\n",
    "\n",
    "my_list = ['apple', 'banana', 'cherry', 'date', 'elderberry']\n",
    "print(my_list[3])  \n"
   ]
  },
  {
   "cell_type": "code",
   "execution_count": 40,
   "metadata": {},
   "outputs": [
    {
     "name": "stdout",
     "output_type": "stream",
     "text": [
      "{'name': 'Sunny', 'age': 24, 'city': 'Noida', 'country': 'India'}\n"
     ]
    }
   ],
   "source": [
    "#QUESTION 29:Combine two dictionaries into one and print the result:\n",
    "\n",
    "dict1 = {'name': 'Sunny', 'age': 24}\n",
    "dict2 = {'city': 'Noida', 'country': 'India'}\n",
    "\n",
    "combined_dict = {**dict1, **dict2}\n",
    "print(combined_dict)\n"
   ]
  },
  {
   "cell_type": "code",
   "execution_count": 41,
   "metadata": {},
   "outputs": [
    {
     "name": "stdout",
     "output_type": "stream",
     "text": [
      "{'banana', 'apple', 'cherry'}\n"
     ]
    }
   ],
   "source": [
    "#QUESTION 30:Convert a list of strings into a set:\n",
    "\n",
    "my_list = ['apple', 'banana', 'apple', 'cherry', 'banana']\n",
    "my_set = set(my_list)\n",
    "print(my_set)\n",
    "\n"
   ]
  }
 ],
 "metadata": {
  "kernelspec": {
   "display_name": "Python 3",
   "language": "python",
   "name": "python3"
  },
  "language_info": {
   "codemirror_mode": {
    "name": "ipython",
    "version": 3
   },
   "file_extension": ".py",
   "mimetype": "text/x-python",
   "name": "python",
   "nbconvert_exporter": "python",
   "pygments_lexer": "ipython3",
   "version": "3.12.3"
  }
 },
 "nbformat": 4,
 "nbformat_minor": 2
}
